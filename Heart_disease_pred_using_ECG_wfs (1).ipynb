{
  "nbformat": 4,
  "nbformat_minor": 0,
  "metadata": {
    "colab": {
      "name": "Heart disease pred using ECG wfs.ipynb",
      "provenance": [],
      "collapsed_sections": []
    },
    "kernelspec": {
      "name": "python3",
      "display_name": "Python 3"
    }
  },
  "cells": [
    {
      "cell_type": "code",
      "metadata": {
        "id": "EL7a52HxhU0v",
        "colab_type": "code",
        "colab": {}
      },
      "source": [
        "import numpy as np\n",
        "import pandas as pd\n",
        "from tensorflow import keras"
      ],
      "execution_count": 0,
      "outputs": []
    },
    {
      "cell_type": "code",
      "metadata": {
        "id": "k4AHCc4GhxfK",
        "colab_type": "code",
        "colab": {}
      },
      "source": [
        "from tensorflow.keras.layers import Dense,Dropout,Conv1D,MaxPool1D,GlobalMaxPool1D,Input,GlobalAveragePooling1D\n",
        "from tensorflow.keras import optimizers,losses,activations,models\n"
      ],
      "execution_count": 0,
      "outputs": []
    },
    {
      "cell_type": "code",
      "metadata": {
        "id": "Qd9ITpKjjF4u",
        "colab_type": "code",
        "colab": {}
      },
      "source": [
        "df_train = pd.read_csv(\"mitbih_train.csv\", header=None)\n",
        "df_test=pd.read_csv(\"mitbih_test.csv\",header=None)"
      ],
      "execution_count": 0,
      "outputs": []
    },
    {
      "cell_type": "code",
      "metadata": {
        "id": "RI8qC_p-uziN",
        "colab_type": "code",
        "colab": {}
      },
      "source": [
        "Y_train = np.array(df_train[187].values)\n",
        "X_train = np.array(df_train[list(range(187))].values)"
      ],
      "execution_count": 0,
      "outputs": []
    },
    {
      "cell_type": "code",
      "metadata": {
        "id": "AcVNoFmf6Sn-",
        "colab_type": "code",
        "colab": {}
      },
      "source": [
        "Y_test = np.array(df_test[187].values)\n",
        "X_test = np.array(df_test[list(range(187))].values)"
      ],
      "execution_count": 0,
      "outputs": []
    },
    {
      "cell_type": "code",
      "metadata": {
        "id": "_j1ighAsET5K",
        "colab_type": "code",
        "colab": {}
      },
      "source": [
        "from tensorflow.keras.optimizers import Adam\n"
      ],
      "execution_count": 0,
      "outputs": []
    },
    {
      "cell_type": "markdown",
      "metadata": {
        "id": "d0kjpT0FppuU",
        "colab_type": "text"
      },
      "source": [
        "MODEL BUILDING:"
      ]
    },
    {
      "cell_type": "code",
      "metadata": {
        "id": "-_MEECSo5q5E",
        "colab_type": "code",
        "outputId": "9d4a8357-2db2-49c7-d86e-43f83ea5db04",
        "colab": {
          "base_uri": "https://localhost:8080/",
          "height": 860
        }
      },
      "source": [
        "inp = Input(shape=(187, 1))\n",
        "x = Conv1D(16, kernel_size=5, activation='relu')(inp)\n",
        "x = Conv1D(16, kernel_size=5, activation='relu')(x)\n",
        "x = MaxPool1D(pool_size=2)(x)\n",
        "x = Dropout(rate=0.1)(x)\n",
        "x = Conv1D(32, kernel_size=3, activation='relu')(x)\n",
        "x = Conv1D(32, kernel_size=3, activation='relu')(x)\n",
        "x = MaxPool1D(pool_size=2)(x)\n",
        "x = Dropout(rate=0.1)(x)\n",
        "x = Conv1D(32, kernel_size=3, activation='relu')(x)\n",
        "x = Conv1D(32, kernel_size=3, activation='relu')(x)\n",
        "x = MaxPool1D(pool_size=2)(x)\n",
        "x = Dropout(rate=0.1)(x)\n",
        "x = Conv1D(256, kernel_size=3, activation='relu')(x)\n",
        "x = Conv1D(256, kernel_size=3, activation='relu')(x)\n",
        "x = GlobalMaxPool1D()(x)\n",
        "x = Dropout(rate=0.2)(x)\n",
        "outp = Dense(64, activation='relu')(x)\n",
        "outp = Dense(64, activation='relu')(outp)\n",
        "outp = Dense(5, activation='sigmoid')(outp)  # 5 output classes\n",
        "optim= keras.optimizers.Adam(learning_rate=0.001)\n",
        "model = models.Model(inputs=inp, outputs=outp)\n",
        "model.compile(optimizer=optim,loss='sparse_categorical_crossentropy', metrics=['acc'])\n",
        "keras.utils.plot_model(model)\n",
        "model.summary()\n",
        "\n"
      ],
      "execution_count": 0,
      "outputs": [
        {
          "output_type": "stream",
          "text": [
            "Model: \"model_15\"\n",
            "_________________________________________________________________\n",
            "Layer (type)                 Output Shape              Param #   \n",
            "=================================================================\n",
            "input_17 (InputLayer)        [(None, 187, 1)]          0         \n",
            "_________________________________________________________________\n",
            "conv1d_120 (Conv1D)          (None, 183, 16)           96        \n",
            "_________________________________________________________________\n",
            "conv1d_121 (Conv1D)          (None, 179, 16)           1296      \n",
            "_________________________________________________________________\n",
            "max_pooling1d_45 (MaxPooling (None, 89, 16)            0         \n",
            "_________________________________________________________________\n",
            "dropout_60 (Dropout)         (None, 89, 16)            0         \n",
            "_________________________________________________________________\n",
            "conv1d_122 (Conv1D)          (None, 87, 32)            1568      \n",
            "_________________________________________________________________\n",
            "conv1d_123 (Conv1D)          (None, 85, 32)            3104      \n",
            "_________________________________________________________________\n",
            "max_pooling1d_46 (MaxPooling (None, 42, 32)            0         \n",
            "_________________________________________________________________\n",
            "dropout_61 (Dropout)         (None, 42, 32)            0         \n",
            "_________________________________________________________________\n",
            "conv1d_124 (Conv1D)          (None, 40, 32)            3104      \n",
            "_________________________________________________________________\n",
            "conv1d_125 (Conv1D)          (None, 38, 32)            3104      \n",
            "_________________________________________________________________\n",
            "max_pooling1d_47 (MaxPooling (None, 19, 32)            0         \n",
            "_________________________________________________________________\n",
            "dropout_62 (Dropout)         (None, 19, 32)            0         \n",
            "_________________________________________________________________\n",
            "conv1d_126 (Conv1D)          (None, 17, 256)           24832     \n",
            "_________________________________________________________________\n",
            "conv1d_127 (Conv1D)          (None, 15, 256)           196864    \n",
            "_________________________________________________________________\n",
            "global_max_pooling1d_15 (Glo (None, 256)               0         \n",
            "_________________________________________________________________\n",
            "dropout_63 (Dropout)         (None, 256)               0         \n",
            "_________________________________________________________________\n",
            "dense_42 (Dense)             (None, 64)                16448     \n",
            "_________________________________________________________________\n",
            "dense_43 (Dense)             (None, 64)                4160      \n",
            "_________________________________________________________________\n",
            "dense_44 (Dense)             (None, 5)                 325       \n",
            "=================================================================\n",
            "Total params: 254,901\n",
            "Trainable params: 254,901\n",
            "Non-trainable params: 0\n",
            "_________________________________________________________________\n"
          ],
          "name": "stdout"
        }
      ]
    },
    {
      "cell_type": "code",
      "metadata": {
        "id": "Meyp4zPNTxpF",
        "colab_type": "code",
        "outputId": "683db52f-6f2b-4c36-d5e5-a1240eb046dc",
        "colab": {
          "base_uri": "https://localhost:8080/",
          "height": 1000
        }
      },
      "source": [
        "history=model.fit(X_train,Y_train,epochs=30,validation_data=(X_test,Y_test),verbose=1)"
      ],
      "execution_count": 0,
      "outputs": [
        {
          "output_type": "stream",
          "text": [
            "Epoch 1/30\n",
            "2737/2737 [==============================] - 136s 50ms/step - loss: 0.0426 - acc: 0.9872 - val_loss: 0.0564 - val_acc: 0.9858\n",
            "Epoch 2/30\n",
            "2737/2737 [==============================] - 139s 51ms/step - loss: 0.0433 - acc: 0.9875 - val_loss: 0.0538 - val_acc: 0.9859\n",
            "Epoch 3/30\n",
            "2737/2737 [==============================] - 136s 50ms/step - loss: 0.0422 - acc: 0.9875 - val_loss: 0.0588 - val_acc: 0.9860\n",
            "Epoch 4/30\n",
            "2737/2737 [==============================] - 135s 49ms/step - loss: 0.0403 - acc: 0.9881 - val_loss: 0.0518 - val_acc: 0.9870\n",
            "Epoch 5/30\n",
            "2737/2737 [==============================] - 136s 50ms/step - loss: 0.0414 - acc: 0.9879 - val_loss: 0.0576 - val_acc: 0.9857\n",
            "Epoch 6/30\n",
            "2737/2737 [==============================] - 135s 49ms/step - loss: 0.0410 - acc: 0.9877 - val_loss: 0.0541 - val_acc: 0.9847\n",
            "Epoch 7/30\n",
            "2737/2737 [==============================] - 138s 51ms/step - loss: 0.0411 - acc: 0.9882 - val_loss: 0.0592 - val_acc: 0.9855\n",
            "Epoch 8/30\n",
            "2737/2737 [==============================] - 133s 49ms/step - loss: 0.0473 - acc: 0.9868 - val_loss: 0.0567 - val_acc: 0.9866\n",
            "Epoch 9/30\n",
            "2737/2737 [==============================] - 132s 48ms/step - loss: 0.0403 - acc: 0.9885 - val_loss: 0.0586 - val_acc: 0.9865\n",
            "Epoch 10/30\n",
            "2737/2737 [==============================] - 134s 49ms/step - loss: 0.0422 - acc: 0.9876 - val_loss: 0.0559 - val_acc: 0.9861\n",
            "Epoch 11/30\n",
            "2737/2737 [==============================] - 138s 50ms/step - loss: 0.0443 - acc: 0.9878 - val_loss: 0.0567 - val_acc: 0.9857\n",
            "Epoch 12/30\n",
            "2737/2737 [==============================] - 140s 51ms/step - loss: 0.0499 - acc: 0.9859 - val_loss: 0.0474 - val_acc: 0.9869\n",
            "Epoch 13/30\n",
            "2737/2737 [==============================] - 136s 50ms/step - loss: 0.0448 - acc: 0.9871 - val_loss: 0.0535 - val_acc: 0.9854\n",
            "Epoch 14/30\n",
            "2737/2737 [==============================] - 139s 51ms/step - loss: 0.0401 - acc: 0.9884 - val_loss: 0.0575 - val_acc: 0.9851\n",
            "Epoch 15/30\n",
            "2737/2737 [==============================] - 155s 56ms/step - loss: 0.0384 - acc: 0.9886 - val_loss: 0.0591 - val_acc: 0.9853\n",
            "Epoch 16/30\n",
            "2737/2737 [==============================] - 149s 54ms/step - loss: 0.0438 - acc: 0.9876 - val_loss: 0.0592 - val_acc: 0.9869\n",
            "Epoch 17/30\n",
            "2737/2737 [==============================] - 143s 52ms/step - loss: 0.0449 - acc: 0.9874 - val_loss: 0.0716 - val_acc: 0.9824\n",
            "Epoch 18/30\n",
            "2737/2737 [==============================] - 144s 52ms/step - loss: 0.0467 - acc: 0.9872 - val_loss: 0.0640 - val_acc: 0.9849\n",
            "Epoch 19/30\n",
            "2737/2737 [==============================] - 143s 52ms/step - loss: 0.0429 - acc: 0.9877 - val_loss: 0.0570 - val_acc: 0.9859\n",
            "Epoch 20/30\n",
            "2737/2737 [==============================] - 144s 52ms/step - loss: 0.0495 - acc: 0.9864 - val_loss: 0.1269 - val_acc: 0.9656\n",
            "Epoch 21/30\n",
            "2737/2737 [==============================] - 144s 53ms/step - loss: 0.0441 - acc: 0.9872 - val_loss: 0.0679 - val_acc: 0.9841\n",
            "Epoch 22/30\n",
            "2737/2737 [==============================] - 142s 52ms/step - loss: 0.0481 - acc: 0.9868 - val_loss: 0.0815 - val_acc: 0.9786\n",
            "Epoch 23/30\n",
            "2737/2737 [==============================] - 141s 51ms/step - loss: 0.0457 - acc: 0.9869 - val_loss: 0.0602 - val_acc: 0.9851\n",
            "Epoch 24/30\n",
            "2737/2737 [==============================] - 145s 53ms/step - loss: 0.0481 - acc: 0.9871 - val_loss: 0.0613 - val_acc: 0.9861\n",
            "Epoch 25/30\n",
            "2737/2737 [==============================] - 143s 52ms/step - loss: 0.0511 - acc: 0.9859 - val_loss: 0.0523 - val_acc: 0.9862\n",
            "Epoch 26/30\n",
            "2737/2737 [==============================] - 143s 52ms/step - loss: 0.0474 - acc: 0.9870 - val_loss: 0.0650 - val_acc: 0.9843\n",
            "Epoch 27/30\n",
            "2737/2737 [==============================] - 149s 55ms/step - loss: 0.0476 - acc: 0.9869 - val_loss: 0.0683 - val_acc: 0.9837\n",
            "Epoch 28/30\n",
            "2737/2737 [==============================] - 150s 55ms/step - loss: 0.0644 - acc: 0.9823 - val_loss: 0.0597 - val_acc: 0.9850\n",
            "Epoch 29/30\n",
            "2737/2737 [==============================] - 145s 53ms/step - loss: 0.0497 - acc: 0.9859 - val_loss: 0.0561 - val_acc: 0.9857\n",
            "Epoch 30/30\n",
            "2737/2737 [==============================] - 145s 53ms/step - loss: 0.0464 - acc: 0.9870 - val_loss: 0.0561 - val_acc: 0.9873\n"
          ],
          "name": "stdout"
        }
      ]
    },
    {
      "cell_type": "code",
      "metadata": {
        "id": "0k9y6o0LlpD5",
        "colab_type": "code",
        "colab": {}
      },
      "source": [
        "model.save_weights('model.py')"
      ],
      "execution_count": 0,
      "outputs": []
    },
    {
      "cell_type": "code",
      "metadata": {
        "id": "mubGSGOupamL",
        "colab_type": "code",
        "colab": {}
      },
      "source": [
        "y_pred=model.predict(X_test)"
      ],
      "execution_count": 0,
      "outputs": []
    },
    {
      "cell_type": "code",
      "metadata": {
        "id": "ecBBSl06mk_O",
        "colab_type": "code",
        "outputId": "6dbb23bb-054a-4f28-da72-f91804f6cd2d",
        "colab": {
          "base_uri": "https://localhost:8080/",
          "height": 34
        }
      },
      "source": [
        "np.argmax(y_pred,axis=-1)"
      ],
      "execution_count": 0,
      "outputs": [
        {
          "output_type": "execute_result",
          "data": {
            "text/plain": [
              "array([0, 0, 0, ..., 4, 4, 4])"
            ]
          },
          "metadata": {
            "tags": []
          },
          "execution_count": 109
        }
      ]
    },
    {
      "cell_type": "code",
      "metadata": {
        "id": "KUhgVRqopMhc",
        "colab_type": "code",
        "outputId": "6be1c5a1-e5a5-4b5a-dc2f-afcbf0905ea3",
        "colab": {
          "base_uri": "https://localhost:8080/",
          "height": 34
        }
      },
      "source": [
        "Y_test"
      ],
      "execution_count": 0,
      "outputs": [
        {
          "output_type": "execute_result",
          "data": {
            "text/plain": [
              "array([0., 0., 0., ..., 4., 4., 4.])"
            ]
          },
          "metadata": {
            "tags": []
          },
          "execution_count": 110
        }
      ]
    },
    {
      "cell_type": "code",
      "metadata": {
        "id": "DRKYp-C4pNtR",
        "colab_type": "code",
        "colab": {}
      },
      "source": [
        ""
      ],
      "execution_count": 0,
      "outputs": []
    }
  ]
}